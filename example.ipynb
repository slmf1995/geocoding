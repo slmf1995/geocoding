{
 "cells": [
  {
   "cell_type": "code",
   "execution_count": 1,
   "id": "0ac0ba3a-432a-469a-93fd-13695064a785",
   "metadata": {
    "tags": []
   },
   "outputs": [],
   "source": [
    "import geopandas as gpd\n",
    "import pandas as pd\n",
    "\n",
    "from polygeohasher import polygeohasher\n",
    "from pygeodesy import geohash\n",
    "from shapely import geometry"
   ]
  },
  {
   "cell_type": "markdown",
   "id": "df88cc6d-cb94-4211-a799-9be383775a4f",
   "metadata": {},
   "source": [
    "# Read/write .shp"
   ]
  },
  {
   "cell_type": "code",
   "execution_count": 2,
   "id": "4d866d50-8787-4a10-94f2-5339cb2259e5",
   "metadata": {
    "tags": []
   },
   "outputs": [],
   "source": [
    "shp = gpd.read_file('./data/natural_earth/ne_10m_admin_1_states_provinces.shp')\n",
    "shp_my = shp[shp.iso_a2 == 'MY'][['name', 'geometry']]\n",
    "# shp_my.to_file('./data/shapefiles/MY_geometry.shp')"
   ]
  },
  {
   "cell_type": "code",
   "execution_count": 3,
   "id": "1903803e-42ac-4e88-9d53-312aeb754505",
   "metadata": {
    "tags": []
   },
   "outputs": [
    {
     "name": "stdout",
     "output_type": "stream",
     "text": [
      "               name                                           geometry\n",
      "0             Sabah  MULTIPOLYGON (((117.70361 4.16341, 117.70361 4...\n",
      "1            Perlis  POLYGON ((100.18756 6.70796, 100.19665 6.70249...\n",
      "2             Kedah  MULTIPOLYGON (((100.37766 6.52675, 100.38739 6...\n",
      "3          Kelantan  POLYGON ((101.78415 5.73810, 101.80048 5.73991...\n",
      "4             Perak  POLYGON ((100.97243 5.77285, 100.98002 5.76099...\n",
      "5           Sarawak  MULTIPOLYGON (((115.34627 4.31377, 115.36074 4...\n",
      "6      Pulau Pinang  MULTIPOLYGON (((100.40410 5.12018, 100.40903 5...\n",
      "7          Selangor  MULTIPOLYGON (((101.72120 2.59585, 101.71339 2...\n",
      "8   Negeri Sembilan  POLYGON ((101.98847 2.39133, 101.98878 2.39452...\n",
      "9            Melaka  POLYGON ((102.48889 2.09298, 102.34864 2.14997...\n",
      "10            Johor  MULTIPOLYGON (((103.64031 2.67129, 103.65211 2...\n",
      "11           Pahang  POLYGON ((103.44280 4.16897, 103.44093 4.16787...\n",
      "12       Terengganu  POLYGON ((102.54200 5.85476, 102.55047 5.84805...\n",
      "13           Labuan  POLYGON ((115.24855 5.36546, 115.25978 5.31538...\n",
      "14     Kuala Lumpur  POLYGON ((101.66845 3.23221, 101.67310 3.23081...\n",
      "15        Putrajaya  POLYGON ((101.71300 2.98121, 101.71594 2.96354...\n"
     ]
    }
   ],
   "source": [
    "shp_my = gpd.read_file('./data/shapefiles/MY_geometry.shp')\n",
    "print(shp_my)"
   ]
  },
  {
   "cell_type": "code",
   "execution_count": 4,
   "id": "ef3a4e54-4fbd-4c7d-a761-866eb29b5dbb",
   "metadata": {
    "tags": []
   },
   "outputs": [
    {
     "data": {
      "text/plain": [
       "<Axes: >"
      ]
     },
     "execution_count": 4,
     "metadata": {},
     "output_type": "execute_result"
    },
    {
     "data": {
      "image/png": "[encoded data removed]",
      "text/plain": [
       "<Figure size 640x480 with 1 Axes>"
      ]
     },
     "metadata": {},
     "output_type": "display_data"
    }
   ],
   "source": [
    "shp_my.plot()"
   ]
  },
  {
   "cell_type": "markdown",
   "id": "4b0076b3-14a4-444a-8f8d-37a635bfbb14",
   "metadata": {},
   "source": [
    "# Read/write .geojson"
   ]
  },
  {
   "cell_type": "code",
   "execution_count": 5,
   "id": "684bf2b5-4faf-458a-b279-63cef73c744b",
   "metadata": {
    "tags": []
   },
   "outputs": [],
   "source": [
    "# shp_my.to_file('./data/MY_geometry.geojson', driver = 'GeoJSON')"
   ]
  },
  {
   "cell_type": "code",
   "execution_count": 6,
   "id": "313a07cd-9596-4f6e-82a7-9f625053dd4e",
   "metadata": {
    "tags": []
   },
   "outputs": [
    {
     "data": {
      "text/html": [
       "<div>\n",
       "<style scoped>\n",
       "    .dataframe tbody tr th:only-of-type {\n",
       "        vertical-align: middle;\n",
       "    }\n",
       "\n",
       "    .dataframe tbody tr th {\n",
       "        vertical-align: top;\n",
       "    }\n",
       "\n",
       "    .dataframe thead th {\n",
       "        text-align: right;\n",
       "    }\n",
       "</style>\n",
       "<table border=\"1\" class=\"dataframe\">\n",
       "  <thead>\n",
       "    <tr style=\"text-align: right;\">\n",
       "      <th></th>\n",
       "      <th>name</th>\n",
       "      <th>geometry</th>\n",
       "    </tr>\n",
       "  </thead>\n",
       "  <tbody>\n",
       "    <tr>\n",
       "      <th>0</th>\n",
       "      <td>Sabah</td>\n",
       "      <td>MULTIPOLYGON (((117.70361 4.16341, 117.70361 4...</td>\n",
       "    </tr>\n",
       "    <tr>\n",
       "      <th>1</th>\n",
       "      <td>Perlis</td>\n",
       "      <td>POLYGON ((100.18756 6.70796, 100.19665 6.70249...</td>\n",
       "    </tr>\n",
       "    <tr>\n",
       "      <th>2</th>\n",
       "      <td>Kedah</td>\n",
       "      <td>MULTIPOLYGON (((100.37766 6.52675, 100.38739 6...</td>\n",
       "    </tr>\n",
       "    <tr>\n",
       "      <th>3</th>\n",
       "      <td>Kelantan</td>\n",
       "      <td>POLYGON ((101.78415 5.73810, 101.80048 5.73991...</td>\n",
       "    </tr>\n",
       "    <tr>\n",
       "      <th>4</th>\n",
       "      <td>Perak</td>\n",
       "      <td>POLYGON ((100.97243 5.77285, 100.98002 5.76099...</td>\n",
       "    </tr>\n",
       "  </tbody>\n",
       "</table>\n",
       "</div>"
      ],
      "text/plain": [
       "       name                                           geometry\n",
       "0     Sabah  MULTIPOLYGON (((117.70361 4.16341, 117.70361 4...\n",
       "1    Perlis  POLYGON ((100.18756 6.70796, 100.19665 6.70249...\n",
       "2     Kedah  MULTIPOLYGON (((100.37766 6.52675, 100.38739 6...\n",
       "3  Kelantan  POLYGON ((101.78415 5.73810, 101.80048 5.73991...\n",
       "4     Perak  POLYGON ((100.97243 5.77285, 100.98002 5.76099..."
      ]
     },
     "execution_count": 6,
     "metadata": {},
     "output_type": "execute_result"
    }
   ],
   "source": [
    "gdf = gpd.read_file('./data/MY_geometry.geojson')\n",
    "gdf.head()"
   ]
  },
  {
   "cell_type": "markdown",
   "id": "c726d866-e390-47dc-b33c-6e5fb6673b5a",
   "metadata": {
    "tags": []
   },
   "source": [
    "# Get list of geohashes on a shapefile"
   ]
  },
  {
   "cell_type": "code",
   "execution_count": 7,
   "id": "8a626f63-0a95-4b74-b022-42535411b6b9",
   "metadata": {
    "tags": []
   },
   "outputs": [
    {
     "data": {
      "text/html": [
       "<div>\n",
       "<style scoped>\n",
       "    .dataframe tbody tr th:only-of-type {\n",
       "        vertical-align: middle;\n",
       "    }\n",
       "\n",
       "    .dataframe tbody tr th {\n",
       "        vertical-align: top;\n",
       "    }\n",
       "\n",
       "    .dataframe thead th {\n",
       "        text-align: right;\n",
       "    }\n",
       "</style>\n",
       "<table border=\"1\" class=\"dataframe\">\n",
       "  <thead>\n",
       "    <tr style=\"text-align: right;\">\n",
       "      <th></th>\n",
       "      <th>name</th>\n",
       "      <th>geohash_list</th>\n",
       "    </tr>\n",
       "  </thead>\n",
       "  <tbody>\n",
       "    <tr>\n",
       "      <th>0</th>\n",
       "      <td>Sabah</td>\n",
       "      <td>[w8gm4, w959m, w8fvc, w8g36, w8u45, w95h8, w94...</td>\n",
       "    </tr>\n",
       "    <tr>\n",
       "      <th>1</th>\n",
       "      <td>Perlis</td>\n",
       "      <td>[w1pm7, w1phy, w1pm1, w1pm8, w1pmh, w1pjr, w1p...</td>\n",
       "    </tr>\n",
       "    <tr>\n",
       "      <th>2</th>\n",
       "      <td>Kedah</td>\n",
       "      <td>[w1ps9, w1pe8, w1pdx, w1p8r, w1peh, w1p83, w1p...</td>\n",
       "    </tr>\n",
       "    <tr>\n",
       "      <th>3</th>\n",
       "      <td>Kelantan</td>\n",
       "      <td>[w2bez, w2btx, w309p, w2b63, w2bkc, w2bv2, w2b...</td>\n",
       "    </tr>\n",
       "    <tr>\n",
       "      <th>4</th>\n",
       "      <td>Perak</td>\n",
       "      <td>[w0zuf, w2bhf, w0zs1, w0xzz, w300y, w3029, w2b...</td>\n",
       "    </tr>\n",
       "  </tbody>\n",
       "</table>\n",
       "</div>"
      ],
      "text/plain": [
       "       name                                       geohash_list\n",
       "0     Sabah  [w8gm4, w959m, w8fvc, w8g36, w8u45, w95h8, w94...\n",
       "1    Perlis  [w1pm7, w1phy, w1pm1, w1pm8, w1pmh, w1pjr, w1p...\n",
       "2     Kedah  [w1ps9, w1pe8, w1pdx, w1p8r, w1peh, w1p83, w1p...\n",
       "3  Kelantan  [w2bez, w2btx, w309p, w2b63, w2bkc, w2bv2, w2b...\n",
       "4     Perak  [w0zuf, w2bhf, w0zs1, w0xzz, w300y, w3029, w2b..."
      ]
     },
     "execution_count": 7,
     "metadata": {},
     "output_type": "execute_result"
    }
   ],
   "source": [
    "df_my = polygeohasher.create_geohash_list(shp_my, 5, inner = False)\n",
    "df_my.head()"
   ]
  },
  {
   "cell_type": "code",
   "execution_count": 8,
   "id": "1f2d7b53-3687-4940-8c2a-cecf5eec2b91",
   "metadata": {
    "tags": []
   },
   "outputs": [
    {
     "data": {
      "text/html": [
       "<div>\n",
       "<style scoped>\n",
       "    .dataframe tbody tr th:only-of-type {\n",
       "        vertical-align: middle;\n",
       "    }\n",
       "\n",
       "    .dataframe tbody tr th {\n",
       "        vertical-align: top;\n",
       "    }\n",
       "\n",
       "    .dataframe thead th {\n",
       "        text-align: right;\n",
       "    }\n",
       "</style>\n",
       "<table border=\"1\" class=\"dataframe\">\n",
       "  <thead>\n",
       "    <tr style=\"text-align: right;\">\n",
       "      <th></th>\n",
       "      <th>name</th>\n",
       "      <th>geohash</th>\n",
       "    </tr>\n",
       "  </thead>\n",
       "  <tbody>\n",
       "    <tr>\n",
       "      <th>0</th>\n",
       "      <td>Sabah</td>\n",
       "      <td>w8gm4</td>\n",
       "    </tr>\n",
       "    <tr>\n",
       "      <th>0</th>\n",
       "      <td>Sabah</td>\n",
       "      <td>w959m</td>\n",
       "    </tr>\n",
       "    <tr>\n",
       "      <th>0</th>\n",
       "      <td>Sabah</td>\n",
       "      <td>w8fvc</td>\n",
       "    </tr>\n",
       "    <tr>\n",
       "      <th>0</th>\n",
       "      <td>Sabah</td>\n",
       "      <td>w8g36</td>\n",
       "    </tr>\n",
       "    <tr>\n",
       "      <th>0</th>\n",
       "      <td>Sabah</td>\n",
       "      <td>w8u45</td>\n",
       "    </tr>\n",
       "  </tbody>\n",
       "</table>\n",
       "</div>"
      ],
      "text/plain": [
       "    name geohash\n",
       "0  Sabah   w8gm4\n",
       "0  Sabah   w959m\n",
       "0  Sabah   w8fvc\n",
       "0  Sabah   w8g36\n",
       "0  Sabah   w8u45"
      ]
     },
     "execution_count": 8,
     "metadata": {},
     "output_type": "execute_result"
    }
   ],
   "source": [
    "df_my = df_my.explode('geohash_list').rename(columns = {'geohash_list': 'geohash'})\n",
    "df_my.head()"
   ]
  },
  {
   "cell_type": "markdown",
   "id": "41b8cdbb-368b-4a6a-b7b0-fc664fb1a6ba",
   "metadata": {},
   "source": [
    "# Convert geohashes to a shapefile"
   ]
  },
  {
   "cell_type": "code",
   "execution_count": 9,
   "id": "d836a79a-1772-4ade-bb65-dbd3151c96ca",
   "metadata": {
    "tags": []
   },
   "outputs": [
    {
     "data": {
      "text/html": [
       "<div>\n",
       "<style scoped>\n",
       "    .dataframe tbody tr th:only-of-type {\n",
       "        vertical-align: middle;\n",
       "    }\n",
       "\n",
       "    .dataframe tbody tr th {\n",
       "        vertical-align: top;\n",
       "    }\n",
       "\n",
       "    .dataframe thead th {\n",
       "        text-align: right;\n",
       "    }\n",
       "</style>\n",
       "<table border=\"1\" class=\"dataframe\">\n",
       "  <thead>\n",
       "    <tr style=\"text-align: right;\">\n",
       "      <th></th>\n",
       "      <th>name</th>\n",
       "      <th>geohash</th>\n",
       "      <th>lat</th>\n",
       "      <th>lon</th>\n",
       "      <th>lat_delta</th>\n",
       "      <th>lon_delta</th>\n",
       "      <th>keys</th>\n",
       "    </tr>\n",
       "  </thead>\n",
       "  <tbody>\n",
       "    <tr>\n",
       "      <th>0</th>\n",
       "      <td>Sabah</td>\n",
       "      <td>w8gm4</td>\n",
       "      <td>5.120</td>\n",
       "      <td>117.180</td>\n",
       "      <td>0.021973</td>\n",
       "      <td>0.021973</td>\n",
       "      <td>0</td>\n",
       "    </tr>\n",
       "    <tr>\n",
       "      <th>0</th>\n",
       "      <td>Sabah</td>\n",
       "      <td>w959m</td>\n",
       "      <td>5.867</td>\n",
       "      <td>117.664</td>\n",
       "      <td>0.021973</td>\n",
       "      <td>0.021973</td>\n",
       "      <td>0</td>\n",
       "    </tr>\n",
       "    <tr>\n",
       "      <th>0</th>\n",
       "      <td>Sabah</td>\n",
       "      <td>w8fvc</td>\n",
       "      <td>5.251</td>\n",
       "      <td>116.433</td>\n",
       "      <td>0.021973</td>\n",
       "      <td>0.021973</td>\n",
       "      <td>0</td>\n",
       "    </tr>\n",
       "    <tr>\n",
       "      <th>0</th>\n",
       "      <td>Sabah</td>\n",
       "      <td>w8g36</td>\n",
       "      <td>4.460</td>\n",
       "      <td>117.180</td>\n",
       "      <td>0.021973</td>\n",
       "      <td>0.021973</td>\n",
       "      <td>0</td>\n",
       "    </tr>\n",
       "    <tr>\n",
       "      <th>0</th>\n",
       "      <td>Sabah</td>\n",
       "      <td>w8u45</td>\n",
       "      <td>4.592</td>\n",
       "      <td>118.279</td>\n",
       "      <td>0.021973</td>\n",
       "      <td>0.021973</td>\n",
       "      <td>0</td>\n",
       "    </tr>\n",
       "  </tbody>\n",
       "</table>\n",
       "</div>"
      ],
      "text/plain": [
       "    name geohash    lat      lon  lat_delta  lon_delta keys\n",
       "0  Sabah   w8gm4  5.120  117.180   0.021973   0.021973    0\n",
       "0  Sabah   w959m  5.867  117.664   0.021973   0.021973    0\n",
       "0  Sabah   w8fvc  5.251  116.433   0.021973   0.021973    0\n",
       "0  Sabah   w8g36  4.460  117.180   0.021973   0.021973    0\n",
       "0  Sabah   w8u45  4.592  118.279   0.021973   0.021973    0"
      ]
     },
     "execution_count": 9,
     "metadata": {},
     "output_type": "execute_result"
    }
   ],
   "source": [
    "lat = df_my.geohash.apply(lambda x: float(geohash.decode(x)[0]))\n",
    "lon = df_my.geohash.apply(lambda x: float(geohash.decode(x)[1]))\n",
    "lat_delta = df_my.geohash.apply(lambda x: geohash.decode_error(x).lat)\n",
    "lon_delta = df_my.geohash.apply(lambda x: geohash.decode_error(x).lon)\n",
    "\n",
    "df_my = df_my.assign(lat = lat.values,\n",
    "                     lon = lon.values,\n",
    "                     lat_delta = lat_delta.values,\n",
    "                     lon_delta = lon_delta.values,\n",
    "                     keys = '0')\n",
    "df_my.head()"
   ]
  },
  {
   "cell_type": "code",
   "execution_count": 10,
   "id": "282fe4b8-8a1b-452d-a4b1-a54405820418",
   "metadata": {
    "tags": []
   },
   "outputs": [
    {
     "data": {
      "text/html": [
       "<div>\n",
       "<style scoped>\n",
       "    .dataframe tbody tr th:only-of-type {\n",
       "        vertical-align: middle;\n",
       "    }\n",
       "\n",
       "    .dataframe tbody tr th {\n",
       "        vertical-align: top;\n",
       "    }\n",
       "\n",
       "    .dataframe thead th {\n",
       "        text-align: right;\n",
       "    }\n",
       "</style>\n",
       "<table border=\"1\" class=\"dataframe\">\n",
       "  <thead>\n",
       "    <tr style=\"text-align: right;\">\n",
       "      <th></th>\n",
       "      <th>edge</th>\n",
       "      <th>keys</th>\n",
       "    </tr>\n",
       "  </thead>\n",
       "  <tbody>\n",
       "    <tr>\n",
       "      <th>0</th>\n",
       "      <td>northwest</td>\n",
       "      <td>0</td>\n",
       "    </tr>\n",
       "    <tr>\n",
       "      <th>1</th>\n",
       "      <td>northeast</td>\n",
       "      <td>0</td>\n",
       "    </tr>\n",
       "    <tr>\n",
       "      <th>2</th>\n",
       "      <td>southwest</td>\n",
       "      <td>0</td>\n",
       "    </tr>\n",
       "    <tr>\n",
       "      <th>3</th>\n",
       "      <td>southeast</td>\n",
       "      <td>0</td>\n",
       "    </tr>\n",
       "  </tbody>\n",
       "</table>\n",
       "</div>"
      ],
      "text/plain": [
       "        edge keys\n",
       "0  northwest    0\n",
       "1  northeast    0\n",
       "2  southwest    0\n",
       "3  southeast    0"
      ]
     },
     "execution_count": 10,
     "metadata": {},
     "output_type": "execute_result"
    }
   ],
   "source": [
    "edges = pd.DataFrame({'edge': ['northwest', 'northeast', 'southwest', 'southeast'], 'keys': '0'})\n",
    "edges"
   ]
  },
  {
   "cell_type": "code",
   "execution_count": 11,
   "id": "60e2c391-1eb3-4e02-85fb-a23c1d807b36",
   "metadata": {
    "tags": []
   },
   "outputs": [
    {
     "data": {
      "text/html": [
       "<div>\n",
       "<style scoped>\n",
       "    .dataframe tbody tr th:only-of-type {\n",
       "        vertical-align: middle;\n",
       "    }\n",
       "\n",
       "    .dataframe tbody tr th {\n",
       "        vertical-align: top;\n",
       "    }\n",
       "\n",
       "    .dataframe thead th {\n",
       "        text-align: right;\n",
       "    }\n",
       "</style>\n",
       "<table border=\"1\" class=\"dataframe\">\n",
       "  <thead>\n",
       "    <tr style=\"text-align: right;\">\n",
       "      <th></th>\n",
       "      <th>name</th>\n",
       "      <th>geohash</th>\n",
       "      <th>lat</th>\n",
       "      <th>lon</th>\n",
       "      <th>lat_delta</th>\n",
       "      <th>lon_delta</th>\n",
       "      <th>edge</th>\n",
       "    </tr>\n",
       "  </thead>\n",
       "  <tbody>\n",
       "    <tr>\n",
       "      <th>0</th>\n",
       "      <td>Sabah</td>\n",
       "      <td>w8gm4</td>\n",
       "      <td>5.120</td>\n",
       "      <td>117.180</td>\n",
       "      <td>0.021973</td>\n",
       "      <td>0.021973</td>\n",
       "      <td>northwest</td>\n",
       "    </tr>\n",
       "    <tr>\n",
       "      <th>1</th>\n",
       "      <td>Sabah</td>\n",
       "      <td>w8gm4</td>\n",
       "      <td>5.120</td>\n",
       "      <td>117.180</td>\n",
       "      <td>0.021973</td>\n",
       "      <td>0.021973</td>\n",
       "      <td>northeast</td>\n",
       "    </tr>\n",
       "    <tr>\n",
       "      <th>2</th>\n",
       "      <td>Sabah</td>\n",
       "      <td>w8gm4</td>\n",
       "      <td>5.120</td>\n",
       "      <td>117.180</td>\n",
       "      <td>0.021973</td>\n",
       "      <td>0.021973</td>\n",
       "      <td>southwest</td>\n",
       "    </tr>\n",
       "    <tr>\n",
       "      <th>3</th>\n",
       "      <td>Sabah</td>\n",
       "      <td>w8gm4</td>\n",
       "      <td>5.120</td>\n",
       "      <td>117.180</td>\n",
       "      <td>0.021973</td>\n",
       "      <td>0.021973</td>\n",
       "      <td>southeast</td>\n",
       "    </tr>\n",
       "    <tr>\n",
       "      <th>4</th>\n",
       "      <td>Sabah</td>\n",
       "      <td>w959m</td>\n",
       "      <td>5.867</td>\n",
       "      <td>117.664</td>\n",
       "      <td>0.021973</td>\n",
       "      <td>0.021973</td>\n",
       "      <td>northwest</td>\n",
       "    </tr>\n",
       "  </tbody>\n",
       "</table>\n",
       "</div>"
      ],
      "text/plain": [
       "    name geohash    lat      lon  lat_delta  lon_delta       edge\n",
       "0  Sabah   w8gm4  5.120  117.180   0.021973   0.021973  northwest\n",
       "1  Sabah   w8gm4  5.120  117.180   0.021973   0.021973  northeast\n",
       "2  Sabah   w8gm4  5.120  117.180   0.021973   0.021973  southwest\n",
       "3  Sabah   w8gm4  5.120  117.180   0.021973   0.021973  southeast\n",
       "4  Sabah   w959m  5.867  117.664   0.021973   0.021973  northwest"
      ]
     },
     "execution_count": 11,
     "metadata": {},
     "output_type": "execute_result"
    }
   ],
   "source": [
    "df_my_points = pd.merge(df_my, edges, on = 'keys').drop(['keys'], axis = 1)\n",
    "df_my_points.head()"
   ]
  },
  {
   "cell_type": "code",
   "execution_count": 12,
   "id": "60668d1d-1866-41df-8e56-2517c704efa6",
   "metadata": {
    "tags": []
   },
   "outputs": [
    {
     "data": {
      "text/html": [
       "<div>\n",
       "<style scoped>\n",
       "    .dataframe tbody tr th:only-of-type {\n",
       "        vertical-align: middle;\n",
       "    }\n",
       "\n",
       "    .dataframe tbody tr th {\n",
       "        vertical-align: top;\n",
       "    }\n",
       "\n",
       "    .dataframe thead th {\n",
       "        text-align: right;\n",
       "    }\n",
       "</style>\n",
       "<table border=\"1\" class=\"dataframe\">\n",
       "  <thead>\n",
       "    <tr style=\"text-align: right;\">\n",
       "      <th></th>\n",
       "      <th>name</th>\n",
       "      <th>geohash</th>\n",
       "      <th>lat</th>\n",
       "      <th>lon</th>\n",
       "      <th>lat_delta</th>\n",
       "      <th>lon_delta</th>\n",
       "      <th>edge</th>\n",
       "      <th>final_lat</th>\n",
       "      <th>final_lon</th>\n",
       "    </tr>\n",
       "  </thead>\n",
       "  <tbody>\n",
       "    <tr>\n",
       "      <th>0</th>\n",
       "      <td>Sabah</td>\n",
       "      <td>w8gm4</td>\n",
       "      <td>5.120</td>\n",
       "      <td>117.180</td>\n",
       "      <td>0.021973</td>\n",
       "      <td>0.021973</td>\n",
       "      <td>northwest</td>\n",
       "      <td>5.141973</td>\n",
       "      <td>117.158027</td>\n",
       "    </tr>\n",
       "    <tr>\n",
       "      <th>1</th>\n",
       "      <td>Sabah</td>\n",
       "      <td>w8gm4</td>\n",
       "      <td>5.120</td>\n",
       "      <td>117.180</td>\n",
       "      <td>0.021973</td>\n",
       "      <td>0.021973</td>\n",
       "      <td>northeast</td>\n",
       "      <td>5.141973</td>\n",
       "      <td>117.201973</td>\n",
       "    </tr>\n",
       "    <tr>\n",
       "      <th>2</th>\n",
       "      <td>Sabah</td>\n",
       "      <td>w8gm4</td>\n",
       "      <td>5.120</td>\n",
       "      <td>117.180</td>\n",
       "      <td>0.021973</td>\n",
       "      <td>0.021973</td>\n",
       "      <td>southwest</td>\n",
       "      <td>5.098027</td>\n",
       "      <td>117.158027</td>\n",
       "    </tr>\n",
       "    <tr>\n",
       "      <th>3</th>\n",
       "      <td>Sabah</td>\n",
       "      <td>w8gm4</td>\n",
       "      <td>5.120</td>\n",
       "      <td>117.180</td>\n",
       "      <td>0.021973</td>\n",
       "      <td>0.021973</td>\n",
       "      <td>southeast</td>\n",
       "      <td>5.098027</td>\n",
       "      <td>117.201973</td>\n",
       "    </tr>\n",
       "    <tr>\n",
       "      <th>4</th>\n",
       "      <td>Sabah</td>\n",
       "      <td>w959m</td>\n",
       "      <td>5.867</td>\n",
       "      <td>117.664</td>\n",
       "      <td>0.021973</td>\n",
       "      <td>0.021973</td>\n",
       "      <td>northwest</td>\n",
       "      <td>5.888973</td>\n",
       "      <td>117.642027</td>\n",
       "    </tr>\n",
       "  </tbody>\n",
       "</table>\n",
       "</div>"
      ],
      "text/plain": [
       "    name geohash    lat      lon  lat_delta  lon_delta       edge  final_lat   \n",
       "0  Sabah   w8gm4  5.120  117.180   0.021973   0.021973  northwest   5.141973  \\\n",
       "1  Sabah   w8gm4  5.120  117.180   0.021973   0.021973  northeast   5.141973   \n",
       "2  Sabah   w8gm4  5.120  117.180   0.021973   0.021973  southwest   5.098027   \n",
       "3  Sabah   w8gm4  5.120  117.180   0.021973   0.021973  southeast   5.098027   \n",
       "4  Sabah   w959m  5.867  117.664   0.021973   0.021973  northwest   5.888973   \n",
       "\n",
       "    final_lon  \n",
       "0  117.158027  \n",
       "1  117.201973  \n",
       "2  117.158027  \n",
       "3  117.201973  \n",
       "4  117.642027  "
      ]
     },
     "execution_count": 12,
     "metadata": {},
     "output_type": "execute_result"
    }
   ],
   "source": [
    "def calc_final_lat(edge, lat, lat_delta):\n",
    "    if edge in ['northwest', 'northeast']:\n",
    "        return lat + lat_delta\n",
    "    elif edge in ['southwest', 'southeast']:\n",
    "        return lat - lat_delta\n",
    "\n",
    "def calc_final_lon(edge, lon, lon_delta):\n",
    "    if edge in ['northeast', 'southeast']:\n",
    "        return lon + lon_delta\n",
    "    elif edge in ['northwest', 'southwest']:\n",
    "        return lon - lon_delta\n",
    "\n",
    "# calculate latlon of edges\n",
    "final_lat = df_my_points.apply(lambda x: calc_final_lat(x['edge'], x['lat'], x['lat_delta']), axis = 1)\n",
    "final_lon = df_my_points.apply(lambda x: calc_final_lon(x['edge'], x['lon'], x['lon_delta']), axis = 1)\n",
    "\n",
    "df_my_points = df_my_points.assign(final_lat = final_lat.values,\n",
    "                                   final_lon = final_lon.values)\n",
    "df_my_points.head()"
   ]
  },
  {
   "cell_type": "code",
   "execution_count": 13,
   "id": "f2602acd-5643-4ffc-821c-aa2e9f2e1369",
   "metadata": {
    "tags": []
   },
   "outputs": [
    {
     "data": {
      "text/html": [
       "<div>\n",
       "<style scoped>\n",
       "    .dataframe tbody tr th:only-of-type {\n",
       "        vertical-align: middle;\n",
       "    }\n",
       "\n",
       "    .dataframe tbody tr th {\n",
       "        vertical-align: top;\n",
       "    }\n",
       "\n",
       "    .dataframe thead th {\n",
       "        text-align: right;\n",
       "    }\n",
       "</style>\n",
       "<table border=\"1\" class=\"dataframe\">\n",
       "  <thead>\n",
       "    <tr style=\"text-align: right;\">\n",
       "      <th></th>\n",
       "      <th>name</th>\n",
       "      <th>geohash</th>\n",
       "      <th>edge</th>\n",
       "      <th>lat</th>\n",
       "      <th>lon</th>\n",
       "    </tr>\n",
       "  </thead>\n",
       "  <tbody>\n",
       "    <tr>\n",
       "      <th>0</th>\n",
       "      <td>Sabah</td>\n",
       "      <td>w8gm4</td>\n",
       "      <td>northwest</td>\n",
       "      <td>5.141973</td>\n",
       "      <td>117.158027</td>\n",
       "    </tr>\n",
       "    <tr>\n",
       "      <th>1</th>\n",
       "      <td>Sabah</td>\n",
       "      <td>w8gm4</td>\n",
       "      <td>northeast</td>\n",
       "      <td>5.141973</td>\n",
       "      <td>117.201973</td>\n",
       "    </tr>\n",
       "    <tr>\n",
       "      <th>2</th>\n",
       "      <td>Sabah</td>\n",
       "      <td>w8gm4</td>\n",
       "      <td>southwest</td>\n",
       "      <td>5.098027</td>\n",
       "      <td>117.158027</td>\n",
       "    </tr>\n",
       "    <tr>\n",
       "      <th>3</th>\n",
       "      <td>Sabah</td>\n",
       "      <td>w8gm4</td>\n",
       "      <td>southeast</td>\n",
       "      <td>5.098027</td>\n",
       "      <td>117.201973</td>\n",
       "    </tr>\n",
       "    <tr>\n",
       "      <th>4</th>\n",
       "      <td>Sabah</td>\n",
       "      <td>w959m</td>\n",
       "      <td>northwest</td>\n",
       "      <td>5.888973</td>\n",
       "      <td>117.642027</td>\n",
       "    </tr>\n",
       "    <tr>\n",
       "      <th>...</th>\n",
       "      <td>...</td>\n",
       "      <td>...</td>\n",
       "      <td>...</td>\n",
       "      <td>...</td>\n",
       "      <td>...</td>\n",
       "    </tr>\n",
       "    <tr>\n",
       "      <th>61235</th>\n",
       "      <td>Putrajaya</td>\n",
       "      <td>w282f</td>\n",
       "      <td>southeast</td>\n",
       "      <td>2.944027</td>\n",
       "      <td>101.732973</td>\n",
       "    </tr>\n",
       "    <tr>\n",
       "      <th>61236</th>\n",
       "      <td>Putrajaya</td>\n",
       "      <td>w2826</td>\n",
       "      <td>northwest</td>\n",
       "      <td>2.899973</td>\n",
       "      <td>101.689027</td>\n",
       "    </tr>\n",
       "    <tr>\n",
       "      <th>61237</th>\n",
       "      <td>Putrajaya</td>\n",
       "      <td>w2826</td>\n",
       "      <td>northeast</td>\n",
       "      <td>2.899973</td>\n",
       "      <td>101.732973</td>\n",
       "    </tr>\n",
       "    <tr>\n",
       "      <th>61238</th>\n",
       "      <td>Putrajaya</td>\n",
       "      <td>w2826</td>\n",
       "      <td>southwest</td>\n",
       "      <td>2.856027</td>\n",
       "      <td>101.689027</td>\n",
       "    </tr>\n",
       "    <tr>\n",
       "      <th>61239</th>\n",
       "      <td>Putrajaya</td>\n",
       "      <td>w2826</td>\n",
       "      <td>southeast</td>\n",
       "      <td>2.856027</td>\n",
       "      <td>101.732973</td>\n",
       "    </tr>\n",
       "  </tbody>\n",
       "</table>\n",
       "<p>61240 rows × 5 columns</p>\n",
       "</div>"
      ],
      "text/plain": [
       "            name geohash       edge       lat         lon\n",
       "0          Sabah   w8gm4  northwest  5.141973  117.158027\n",
       "1          Sabah   w8gm4  northeast  5.141973  117.201973\n",
       "2          Sabah   w8gm4  southwest  5.098027  117.158027\n",
       "3          Sabah   w8gm4  southeast  5.098027  117.201973\n",
       "4          Sabah   w959m  northwest  5.888973  117.642027\n",
       "...          ...     ...        ...       ...         ...\n",
       "61235  Putrajaya   w282f  southeast  2.944027  101.732973\n",
       "61236  Putrajaya   w2826  northwest  2.899973  101.689027\n",
       "61237  Putrajaya   w2826  northeast  2.899973  101.732973\n",
       "61238  Putrajaya   w2826  southwest  2.856027  101.689027\n",
       "61239  Putrajaya   w2826  southeast  2.856027  101.732973\n",
       "\n",
       "[61240 rows x 5 columns]"
      ]
     },
     "execution_count": 13,
     "metadata": {},
     "output_type": "execute_result"
    }
   ],
   "source": [
    "df_my_grid = df_my_points[['name', 'geohash', 'edge', 'final_lat', 'final_lon']]\n",
    "df_my_grid = df_my_grid.rename({'final_lat': 'lat', 'final_lon': 'lon'}, axis = 1)\n",
    "df_my_grid = df_my_grid.drop_duplicates().reset_index(drop = True)\n",
    "df_my_grid"
   ]
  },
  {
   "cell_type": "code",
   "execution_count": 14,
   "id": "8a0610dc-534b-4f75-897a-e1dbb2d3c164",
   "metadata": {
    "tags": []
   },
   "outputs": [],
   "source": [
    "# https://geopandas.org/en/stable/gallery/create_geopandas_from_pandas.html\n",
    "\n",
    "gdf_my = gpd.GeoDataFrame(pd.DataFrame(columns = ['geohash', 'state', 'geometry']), geometry = 'geometry')\n",
    "for g in df_my_grid.geohash.unique():\n",
    "    df_tmp = df_my_grid[df_my_grid.geohash == g]\n",
    "    state = df_tmp.name.iloc[0]\n",
    "    \n",
    "    # create polygon\n",
    "    p1 = geometry.Point(df_tmp[df_tmp.edge == 'northwest'].lon.iloc[0], df_tmp[df_tmp.edge == 'northwest'].lat.iloc[0])\n",
    "    p2 = geometry.Point(df_tmp[df_tmp.edge == 'northeast'].lon.iloc[0], df_tmp[df_tmp.edge == 'northeast'].lat.iloc[0])\n",
    "    p3 = geometry.Point(df_tmp[df_tmp.edge == 'southwest'].lon.iloc[0], df_tmp[df_tmp.edge == 'southwest'].lat.iloc[0])\n",
    "    p4 = geometry.Point(df_tmp[df_tmp.edge == 'southeast'].lon.iloc[0], df_tmp[df_tmp.edge == 'southeast'].lat.iloc[0])\n",
    "    \n",
    "    pointList = [p1, p2, p4, p3, p1]\n",
    "    poly = geometry.Polygon([[p.x, p.y] for p in pointList])\n",
    "    \n",
    "    # create geodataframe\n",
    "    gdf_tmp = gpd.GeoDataFrame(pd.DataFrame({'geohash': [g], 'state': [state], 'geometry': [poly]}),\n",
    "                               geometry = 'geometry')\n",
    "    \n",
    "    # append to mainframe\n",
    "    gdf_my = pd.concat([gdf_my, gdf_tmp], axis = 0)\n",
    "    del df_tmp, state, p1, p2, p3, p4, pointList, poly"
   ]
  },
  {
   "cell_type": "code",
   "execution_count": 15,
   "id": "366c91cc-3d25-4e38-bf20-9a0b9bfe8615",
   "metadata": {
    "tags": []
   },
   "outputs": [
    {
     "data": {
      "text/plain": [
       "<Axes: >"
      ]
     },
     "execution_count": 15,
     "metadata": {},
     "output_type": "execute_result"
    },
    {
     "data": {
      "image/png": "[encoded data removed]",
      "text/plain": [
       "<Figure size 640x480 with 1 Axes>"
      ]
     },
     "metadata": {},
     "output_type": "display_data"
    }
   ],
   "source": [
    "gdf_my[gdf_my['state'] == 'Sabah'].plot()"
   ]
  },
  {
   "cell_type": "code",
   "execution_count": 16,
   "id": "7b8c462a-b477-4576-ae4d-359b6b4dd66b",
   "metadata": {
    "tags": []
   },
   "outputs": [],
   "source": [
    "# gdf_my.to_file('./data/MY_geohash5.geojson', driver = 'GeoJSON')\n",
    "# gdf_my.to_file('./data/shapefiles/MY_geohash5.shp')"
   ]
  }
 ],
 "metadata": {
  "kernelspec": {
   "display_name": "Python 3 (ipykernel)",
   "language": "python",
   "name": "python3"
  },
  "language_info": {
   "codemirror_mode": {
    "name": "ipython",
    "version": 3
   },
   "file_extension": ".py",
   "mimetype": "text/x-python",
   "name": "python",
   "nbconvert_exporter": "python",
   "pygments_lexer": "ipython3",
   "version": "3.11.3"
  }
 },
 "nbformat": 4,
 "nbformat_minor": 5
}
